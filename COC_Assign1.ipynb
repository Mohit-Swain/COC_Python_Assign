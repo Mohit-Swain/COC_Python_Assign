{
  "nbformat": 4,
  "nbformat_minor": 0,
  "metadata": {
    "colab": {
      "name": "COC_Assign1.ipynb",
      "provenance": [],
      "authorship_tag": "ABX9TyOaSbSlxhQWQACiZPkBqCMj",
      "include_colab_link": true
    },
    "kernelspec": {
      "name": "python3",
      "display_name": "Python 3"
    },
    "language_info": {
      "name": "python"
    }
  },
  "cells": [
    {
      "cell_type": "markdown",
      "metadata": {
        "id": "view-in-github",
        "colab_type": "text"
      },
      "source": [
        "<a href=\"https://colab.research.google.com/github/Mohit-Swain/COC_Python_Assign/blob/main/COC_Assign1.ipynb\" target=\"_parent\"><img src=\"https://colab.research.google.com/assets/colab-badge.svg\" alt=\"Open In Colab\"/></a>"
      ]
    },
    {
      "cell_type": "code",
      "metadata": {
        "colab": {
          "base_uri": "https://localhost:8080/"
        },
        "id": "TEI_lzlfugC6",
        "outputId": "89b88ae9-e680-45ae-b228-77d6fa322f0a"
      },
      "source": [
        "#1\n",
        "def output_badge(credits):\n",
        "    if credits < 4500:\n",
        "        return \"Rising Star\"\n",
        "    elif credits < 6000:\n",
        "        return \"Mega leader\"\n",
        "    elif credits < 7500:\n",
        "        return \"Gega leader\"\n",
        "    else: # credits >= 7500\n",
        "        return \"Tera leader\"\n",
        "\n",
        "credits = int(input(\"Enter credits \"))\n",
        "print(output_badge(credits))"
      ],
      "execution_count": null,
      "outputs": [
        {
          "output_type": "stream",
          "text": [
            "Enter credits 5000\n",
            "Mega leader\n"
          ],
          "name": "stdout"
        }
      ]
    },
    {
      "cell_type": "code",
      "metadata": {
        "colab": {
          "base_uri": "https://localhost:8080/"
        },
        "id": "fUMTWdB0vhu3",
        "outputId": "aaf6f1ee-06bd-4ce0-9d45-41fe9828f50e"
      },
      "source": [
        "#2\n",
        "def simple_interest(amount, rate, time):\n",
        "    return amount * rate * time / 100\n",
        "\n",
        "amount = int(input(\"Enter amount \"))\n",
        "time = int(input(\"Enter time per annum \"))\n",
        "rate = int(input(\"Enter rate  per annum \"))\n",
        "\n",
        "print(simple_interest(amount,rate,time))"
      ],
      "execution_count": null,
      "outputs": [
        {
          "output_type": "stream",
          "text": [
            "Enter amount1\n",
            "Enter time per annum2\n",
            "Enter rate  per annum3\n",
            "0.06\n"
          ],
          "name": "stdout"
        }
      ]
    },
    {
      "cell_type": "code",
      "metadata": {
        "colab": {
          "base_uri": "https://localhost:8080/"
        },
        "id": "f7ps3vH7wgnp",
        "outputId": "046346c3-d25d-48ee-b41d-a82f6334eba8"
      },
      "source": [
        "#3\n",
        "def gcd(a , b):\n",
        "    if b==0:\n",
        "        return a\n",
        "    return gcd(b,a%b)\n",
        "    \n",
        "print(gcd(21,56))"
      ],
      "execution_count": null,
      "outputs": [
        {
          "output_type": "stream",
          "text": [
            "7\n"
          ],
          "name": "stdout"
        }
      ]
    },
    {
      "cell_type": "code",
      "metadata": {
        "colab": {
          "base_uri": "https://localhost:8080/"
        },
        "id": "Phw7uEXQwtKU",
        "outputId": "aac2c78b-33f9-4a96-837a-ecaad8862598"
      },
      "source": [
        "#4\n",
        "def print_sequence(limit = 100):\n",
        "    i = 2\n",
        "    jump = 4\n",
        "    while i <= 100:\n",
        "        print(i,end = ' ')\n",
        "        i += jump\n",
        "        jump += 4\n",
        "\n",
        "print_sequence()"
      ],
      "execution_count": null,
      "outputs": [
        {
          "output_type": "stream",
          "text": [
            "2 6 14 26 42 62 86 "
          ],
          "name": "stdout"
        }
      ]
    },
    {
      "cell_type": "code",
      "metadata": {
        "colab": {
          "base_uri": "https://localhost:8080/"
        },
        "id": "va8ySTRZxiuk",
        "outputId": "3f3d7f1f-3148-4f6d-f427-264483686def"
      },
      "source": [
        "#5\n",
        "def count_digits(no):\n",
        "    digit = 0\n",
        "    while no > 0:\n",
        "        digit += 1\n",
        "        no //= 10\n",
        "    return digit\n",
        "\n",
        "no = int(input(\"Enter number \"))\n",
        "print(count_digits(no))"
      ],
      "execution_count": null,
      "outputs": [
        {
          "output_type": "stream",
          "text": [
            "Enter number 100000007\n",
            "9\n"
          ],
          "name": "stdout"
        }
      ]
    },
    {
      "cell_type": "code",
      "metadata": {
        "colab": {
          "base_uri": "https://localhost:8080/"
        },
        "id": "OyKl6x7ax_I0",
        "outputId": "461d2fa6-6032-4ed9-d896-8fde78316f66"
      },
      "source": [
        "#6\n",
        "def reverse_no(no):\n",
        "    ans = 0\n",
        "    while no > 0:\n",
        "        last = no % 10\n",
        "        ans = ans*10 + last\n",
        "        no //= 10\n",
        "    return ans\n",
        "\n",
        "no = int(input(\"Enter number \"))\n",
        "print(reverse_no(no))"
      ],
      "execution_count": null,
      "outputs": [
        {
          "output_type": "stream",
          "text": [
            "Enter number 9735\n",
            "5379\n"
          ],
          "name": "stdout"
        }
      ]
    },
    {
      "cell_type": "code",
      "metadata": {
        "colab": {
          "base_uri": "https://localhost:8080/"
        },
        "id": "cXG9iaGwyq7Z",
        "outputId": "dbcc8dfa-e66c-4d86-cba1-d0ac9c4f941a"
      },
      "source": [
        "#7.a\n",
        "def print_patternA(rows):\n",
        "    for i in range(rows):\n",
        "        for j in range(i+1):\n",
        "            print('*',end = ' ')\n",
        "        print()\n",
        "\n",
        "print_patternA(5)"
      ],
      "execution_count": null,
      "outputs": [
        {
          "output_type": "stream",
          "text": [
            "* \n",
            "* * \n",
            "* * * \n",
            "* * * * \n",
            "* * * * * \n"
          ],
          "name": "stdout"
        }
      ]
    },
    {
      "cell_type": "code",
      "metadata": {
        "colab": {
          "base_uri": "https://localhost:8080/"
        },
        "id": "tLDWzr2izQZy",
        "outputId": "625feccb-2924-467a-ffae-069e9e3caf25"
      },
      "source": [
        "#7.b\n",
        "def print_patternB(rows):\n",
        "    for i in range(rows):\n",
        "        for j in range(i+1):\n",
        "            print(j+1,end = ' ')\n",
        "        print()\n",
        "\n",
        "print_patternB(5)"
      ],
      "execution_count": null,
      "outputs": [
        {
          "output_type": "stream",
          "text": [
            "1 \n",
            "1 2 \n",
            "1 2 3 \n",
            "1 2 3 4 \n",
            "1 2 3 4 5 \n"
          ],
          "name": "stdout"
        }
      ]
    },
    {
      "cell_type": "code",
      "metadata": {
        "colab": {
          "base_uri": "https://localhost:8080/"
        },
        "id": "zMBFZB6ozXsD",
        "outputId": "0fc01b0e-bb0d-455a-caba-e5f7a71d7149"
      },
      "source": [
        "#7.c\n",
        "def print_patternC(rows):\n",
        "    for i in range(rows):\n",
        "        for j in range(rows - i):\n",
        "            print(' ', end = ' ')\n",
        "        for j in range(i):\n",
        "            print(j+1,end = ' ')\n",
        "\n",
        "        print(i + 1, end = ' ')\n",
        "\n",
        "        for j in range(i,0,-1):\n",
        "            print(j, end = ' ')\n",
        "        print()\n",
        "\n",
        "\n",
        "\n",
        "print_patternC(5)"
      ],
      "execution_count": null,
      "outputs": [
        {
          "output_type": "stream",
          "text": [
            "          1 \n",
            "        1 2 1 \n",
            "      1 2 3 2 1 \n",
            "    1 2 3 4 3 2 1 \n",
            "  1 2 3 4 5 4 3 2 1 \n"
          ],
          "name": "stdout"
        }
      ]
    },
    {
      "cell_type": "code",
      "metadata": {
        "colab": {
          "base_uri": "https://localhost:8080/"
        },
        "id": "c9PiU4CSzwIc",
        "outputId": "c721e494-1fca-4b36-83be-836fcc84afde"
      },
      "source": [
        "#7.c\n",
        "def print_patternD(rows):\n",
        "    for i in range(rows):\n",
        "        for j in range(rows - i):\n",
        "            print(' ', end = ' ')\n",
        "\n",
        "        temp = i + 1\n",
        "        for j in range(i):\n",
        "            print(temp,end = ' ')\n",
        "            temp += 1\n",
        "\n",
        "        print(temp, end = ' ')\n",
        "        temp -= 1\n",
        "        for j in range(i,0,-1):\n",
        "            print(temp, end = ' ')\n",
        "            temp -= 1\n",
        "        print()\n",
        "\n",
        "\n",
        "\n",
        "print_patternD(5)"
      ],
      "execution_count": null,
      "outputs": [
        {
          "output_type": "stream",
          "text": [
            "          1 \n",
            "        2 3 2 \n",
            "      3 4 5 4 3 \n",
            "    4 5 6 7 6 5 4 \n",
            "  5 6 7 8 9 8 7 6 5 \n"
          ],
          "name": "stdout"
        }
      ]
    },
    {
      "cell_type": "code",
      "metadata": {
        "colab": {
          "base_uri": "https://localhost:8080/"
        },
        "id": "PkfI4Zu21D9F",
        "outputId": "3586902a-7af0-4095-8f84-3e548cbb8fcf"
      },
      "source": [
        "#7.e\n",
        "def print_patternE(rows):\n",
        "    pascal = []\n",
        "    for i in range(rows):\n",
        "        pascal.append([])\n",
        "        for j in range(i+1):\n",
        "            if j == 0 or j == i:\n",
        "                pascal[i].append(1)\n",
        "            else:\n",
        "                val = pascal[i-1][j-1] + pascal[i-1][j]\n",
        "                pascal[i].append(val)\n",
        "            print(pascal[i][j],end = ' ')\n",
        "        print()\n",
        "\n",
        "print_patternE(5)"
      ],
      "execution_count": null,
      "outputs": [
        {
          "output_type": "stream",
          "text": [
            "1 \n",
            "1 1 \n",
            "1 2 1 \n",
            "1 3 3 1 \n",
            "1 4 6 4 1 \n"
          ],
          "name": "stdout"
        }
      ]
    },
    {
      "cell_type": "code",
      "metadata": {
        "colab": {
          "base_uri": "https://localhost:8080/"
        },
        "id": "Sroprafz1qpN",
        "outputId": "572123fd-ddce-4a0b-f651-88c10a27b263"
      },
      "source": [
        "#7.f\n",
        "def print_patternF(rows):\n",
        "    for i in range(rows):\n",
        "        for j in range(rows - i):\n",
        "            print(' ',end = ' ')\n",
        "        for j in range(2 * i + 1):\n",
        "            print('*',end = ' ')\n",
        "        print()\n",
        "\n",
        "    print('* '*(2*rows + 1))\n",
        "\n",
        "    for i in range(rows):\n",
        "        for j in range(i + 1):\n",
        "            print(' ',end = ' ')\n",
        "        val = 2 * (rows - i) - 1\n",
        "        for j in range(val):\n",
        "            print('*',end = ' ')\n",
        "        print()\n",
        "\n",
        "print_patternF(4)"
      ],
      "execution_count": null,
      "outputs": [
        {
          "output_type": "stream",
          "text": [
            "        * \n",
            "      * * * \n",
            "    * * * * * \n",
            "  * * * * * * * \n",
            "* * * * * * * * * \n",
            "  * * * * * * * \n",
            "    * * * * * \n",
            "      * * * \n",
            "        * \n"
          ],
          "name": "stdout"
        }
      ]
    },
    {
      "cell_type": "code",
      "metadata": {
        "colab": {
          "base_uri": "https://localhost:8080/"
        },
        "id": "YZbCLX2o5Rer",
        "outputId": "0a18177e-5c16-4c83-b986-109f3e10a19e"
      },
      "source": [
        "#7.g\n",
        "def print_patternG(rows):\n",
        "    for i in range(rows-1):\n",
        "        print('* '*(i+1),end = '')\n",
        "        print('  '*(2*(rows - i - 1)),end = '')\n",
        "        print('* '*(i+1),end = '')\n",
        "        print()\n",
        "    print('* '*(2*rows))\n",
        "    for i in range(rows-2,-1,-1):\n",
        "        print('* '*(i+1),end = '')\n",
        "        print('  '*(2*(rows - i - 1)),end = '')\n",
        "        print('* '*(i+1),end = '')\n",
        "        print()\n",
        "\n",
        "\n",
        "print_patternG(5)"
      ],
      "execution_count": null,
      "outputs": [
        {
          "output_type": "stream",
          "text": [
            "*                 * \n",
            "* *             * * \n",
            "* * *         * * * \n",
            "* * * *     * * * * \n",
            "* * * * * * * * * * \n",
            "* * * *     * * * * \n",
            "* * *         * * * \n",
            "* *             * * \n",
            "*                 * \n"
          ],
          "name": "stdout"
        }
      ]
    },
    {
      "cell_type": "code",
      "metadata": {
        "id": "tYaDvYoe8ouf",
        "colab": {
          "base_uri": "https://localhost:8080/"
        },
        "outputId": "7e97ec5f-c850-4372-d12b-710a95049697"
      },
      "source": [
        "#7.h\n",
        "def print_patternH(rows):\n",
        "    for i in range(rows):\n",
        "        for j in range(rows - i,0,-1):\n",
        "            print('*',end = ' ')\n",
        "        val = max(0,2*(i-1)+1)\n",
        "        for j in range(val):\n",
        "            print(' ',end = ' ')\n",
        "        if i==0:\n",
        "            print('* '*(rows-1))\n",
        "            continue\n",
        "        for j in range(rows - i - 1,-1,-1):\n",
        "            print('*',end = ' ')\n",
        "        print()\n",
        "\n",
        "    for i in range(1,rows):\n",
        "        for j in range(i+1):\n",
        "            print('*',end = ' ')\n",
        "        val = max(0,2*rows - 2*i - 3)\n",
        "        for j in range(val):\n",
        "            print(' ',end = ' ')\n",
        "        if i== rows-1:\n",
        "            print('* '*(rows - 1))\n",
        "            continue\n",
        "        for j in range(i+1):\n",
        "            print('*',end = ' ')\n",
        "\n",
        "        print()\n",
        "\n",
        "print_patternH(5)"
      ],
      "execution_count": 35,
      "outputs": [
        {
          "output_type": "stream",
          "text": [
            "* * * * * * * * * \n",
            "* * * *   * * * * \n",
            "* * *       * * * \n",
            "* *           * * \n",
            "*               * \n",
            "* *           * * \n",
            "* * *       * * * \n",
            "* * * *   * * * * \n",
            "* * * * * * * * * \n"
          ],
          "name": "stdout"
        }
      ]
    },
    {
      "cell_type": "code",
      "metadata": {
        "colab": {
          "base_uri": "https://localhost:8080/"
        },
        "id": "Ai3LOQEx66Wr",
        "outputId": "a054feda-2d5a-4c3c-ac0d-af9d75eec937"
      },
      "source": [
        "#7.i\n",
        "def print_patternI(rows):\n",
        "    for i in range(rows):\n",
        "        for j in range(rows,0,-1):\n",
        "            val = max(rows-i,j)\n",
        "            print(val,end= ' ')\n",
        "\n",
        "        for j in range(1,rows):\n",
        "            val = max(rows - i,j+1)\n",
        "            print(val,end=' ')\n",
        "        print()\n",
        "\n",
        "    for i in range(rows-2,-1,-1):\n",
        "        for j in range(rows,0,-1):\n",
        "            val = max(rows-i,j)\n",
        "            print(val,end= ' ')\n",
        "\n",
        "        for j in range(1,rows):\n",
        "            val = max(rows - i,j+1)\n",
        "            print(val,end=' ')\n",
        "        print()\n",
        "\n",
        "print_patternI(5)"
      ],
      "execution_count": 44,
      "outputs": [
        {
          "output_type": "stream",
          "text": [
            "5 5 5 5 5 5 5 5 5 \n",
            "5 4 4 4 4 4 4 4 5 \n",
            "5 4 3 3 3 3 3 4 5 \n",
            "5 4 3 2 2 2 3 4 5 \n",
            "5 4 3 2 1 2 3 4 5 \n",
            "5 4 3 2 2 2 3 4 5 \n",
            "5 4 3 3 3 3 3 4 5 \n",
            "5 4 4 4 4 4 4 4 5 \n",
            "5 5 5 5 5 5 5 5 5 \n"
          ],
          "name": "stdout"
        }
      ]
    },
    {
      "cell_type": "code",
      "metadata": {
        "id": "xgEYFGrMBG54"
      },
      "source": [
        ""
      ],
      "execution_count": null,
      "outputs": []
    }
  ]
}