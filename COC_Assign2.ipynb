{
  "nbformat": 4,
  "nbformat_minor": 0,
  "metadata": {
    "colab": {
      "name": "COC_Assign2.ipynb",
      "provenance": [],
      "authorship_tag": "ABX9TyPn3NlK0jRqeFDZEgX0VYNu",
      "include_colab_link": true
    },
    "kernelspec": {
      "name": "python3",
      "display_name": "Python 3"
    },
    "language_info": {
      "name": "python"
    }
  },
  "cells": [
    {
      "cell_type": "markdown",
      "metadata": {
        "id": "view-in-github",
        "colab_type": "text"
      },
      "source": [
        "<a href=\"https://colab.research.google.com/github/Mohit-Swain/COC_Python_Assign/blob/main/COC_Assign2.ipynb\" target=\"_parent\"><img src=\"https://colab.research.google.com/assets/colab-badge.svg\" alt=\"Open In Colab\"/></a>"
      ]
    },
    {
      "cell_type": "code",
      "metadata": {
        "colab": {
          "base_uri": "https://localhost:8080/"
        },
        "id": "orrpw7uyFaZ0",
        "outputId": "c62d612f-737f-4016-e306-7d9be2f56b84"
      },
      "source": [
        "#1\n",
        "def to_octal(no):\n",
        "    ans = 0\n",
        "    cnt = 1\n",
        "    while no > 0:\n",
        "        ans = ans + cnt * (no % 8)\n",
        "        no //= 8\n",
        "        cnt *= 10\n",
        "    return ans\n",
        "\n",
        "print(to_octal(453))"
      ],
      "execution_count": 2,
      "outputs": [
        {
          "output_type": "stream",
          "text": [
            "705\n"
          ],
          "name": "stdout"
        }
      ]
    },
    {
      "cell_type": "code",
      "metadata": {
        "colab": {
          "base_uri": "https://localhost:8080/"
        },
        "id": "OdZziUXqFwPB",
        "outputId": "bea75189-a3cb-4579-e140-9fbf28e052ab"
      },
      "source": [
        "#2\n",
        "def calc(n1,n2,op):\n",
        "    if op=='+':\n",
        "        return n1 + n2\n",
        "    elif op == '-':\n",
        "        return n1 - n2;\n",
        "    elif op == '*':\n",
        "        return n1 * n2\n",
        "    elif op == '/':\n",
        "        return n1/n2\n",
        "\n",
        "print(calc(2,3,'*'))"
      ],
      "execution_count": 3,
      "outputs": [
        {
          "output_type": "stream",
          "text": [
            "6\n"
          ],
          "name": "stdout"
        }
      ]
    },
    {
      "cell_type": "code",
      "metadata": {
        "colab": {
          "base_uri": "https://localhost:8080/"
        },
        "id": "kO7oZLJdPsiX",
        "outputId": "4212da10-0217-4c24-dac4-7f25cb91e54c"
      },
      "source": [
        "#3\n",
        "def tell(ch):\n",
        "    if ch >= 'a' and ch <= 'z':\n",
        "        print(\"LowerCase\")\n",
        "    elif ch >= 'A' and ch <= 'Z':\n",
        "        print(\"UpperCase\")\n",
        "    else:\n",
        "        print(\"Invalid input\")\n",
        "\n",
        "tell('V')"
      ],
      "execution_count": 10,
      "outputs": [
        {
          "output_type": "stream",
          "text": [
            "UpperCase\n"
          ],
          "name": "stdout"
        }
      ]
    },
    {
      "cell_type": "code",
      "metadata": {
        "colab": {
          "base_uri": "https://localhost:8080/"
        },
        "id": "YebJ7BSaP6_j",
        "outputId": "82c5cfa8-ea72-43bc-8ca0-8cea783fd8c0"
      },
      "source": [
        "#4\n",
        "def reverse(no):\n",
        "    ans = 0\n",
        "    while no > 0:\n",
        "        ans = ans * 10 + (no % 10)\n",
        "        no //= 10\n",
        "    return ans\n",
        "\n",
        "print(reverse(12345))"
      ],
      "execution_count": 11,
      "outputs": [
        {
          "output_type": "stream",
          "text": [
            "54321\n"
          ],
          "name": "stdout"
        }
      ]
    },
    {
      "cell_type": "code",
      "metadata": {
        "colab": {
          "base_uri": "https://localhost:8080/"
        },
        "id": "GePbU7AHP9ei",
        "outputId": "96649f59-0e44-4222-94c8-afbb233d1381"
      },
      "source": [
        "#5\n",
        "def inverse(no):\n",
        "    vec = list(map(int,str(no)))\n",
        "    ans = [None] * len(vec)\n",
        "    for i,v in enumerate(vec):\n",
        "        ans[v-1] = i + 1\n",
        "    return int(''.join(map(str,ans)))\n",
        "\n",
        "print(inverse(25413))"
      ],
      "execution_count": 20,
      "outputs": [
        {
          "output_type": "stream",
          "text": [
            "41532\n"
          ],
          "name": "stdout"
        }
      ]
    },
    {
      "cell_type": "code",
      "metadata": {
        "colab": {
          "base_uri": "https://localhost:8080/"
        },
        "id": "KhEP3Jh0RZaX",
        "outputId": "ae176fc5-21b0-4968-dbe0-8e75c4d35daf"
      },
      "source": [
        "#6\n",
        "def gcd(a , b):\n",
        "    if b==0:\n",
        "        return a\n",
        "    return gcd(b,a%b)\n",
        "    \n",
        "print(gcd(21,56))\n"
      ],
      "execution_count": 21,
      "outputs": [
        {
          "output_type": "stream",
          "text": [
            "7\n"
          ],
          "name": "stdout"
        }
      ]
    },
    {
      "cell_type": "code",
      "metadata": {
        "colab": {
          "base_uri": "https://localhost:8080/"
        },
        "id": "eKMQ9oSDSuip",
        "outputId": "cd2de631-b96b-43da-f71e-f0045e8a60c9"
      },
      "source": [
        "#7\n",
        "def gcd(a , b):\n",
        "    if b==0:\n",
        "        return a\n",
        "    return gcd(b,a%b)\n",
        "\n",
        "def lcm(a, b):\n",
        "    return a * b // gcd(a, b)\n",
        "\n",
        "lcm(4,6)"
      ],
      "execution_count": 23,
      "outputs": [
        {
          "output_type": "execute_result",
          "data": {
            "text/plain": [
              "12"
            ]
          },
          "metadata": {
            "tags": []
          },
          "execution_count": 23
        }
      ]
    },
    {
      "cell_type": "code",
      "metadata": {
        "colab": {
          "base_uri": "https://localhost:8080/"
        },
        "id": "7WusSobeS5d5",
        "outputId": "6de8648d-3e78-41da-e3e1-b94a2901023a"
      },
      "source": [
        "#8\n",
        "n = int(input(\"Enter No of elements in the array \"))\n",
        "\n",
        "cnt = 0\n",
        "for i in range(1,n+1):\n",
        "    no = int(input(\"Enter No {0} \".format(i)))\n",
        "    if no % 5 == 0:\n",
        "        cnt += 1\n",
        "print(\"No of numbers divisible by 5 is \", cnt)"
      ],
      "execution_count": 24,
      "outputs": [
        {
          "output_type": "stream",
          "text": [
            "Enter No of elements in the array 3\n",
            "Enter No 1 4\n",
            "Enter No 2 5\n",
            "Enter No 3 6\n",
            "No of numbers divisible by 5 is  1\n"
          ],
          "name": "stdout"
        }
      ]
    },
    {
      "cell_type": "code",
      "metadata": {
        "colab": {
          "base_uri": "https://localhost:8080/"
        },
        "id": "bedoLBcIT08Z",
        "outputId": "d358cd36-bb4d-4354-c353-78a6c9911f83"
      },
      "source": [
        "#9\n",
        "from math import sqrt\n",
        "\n",
        "def is_prime(no):\n",
        "    if no == 1:\n",
        "        return False\n",
        "\n",
        "    for i in range(2,int(sqrt(no)) + 1):\n",
        "        if no % i == 0:\n",
        "            return False\n",
        "    return True\n",
        "\n",
        "l = [5,45,23]\n",
        "\n",
        "for i in range(len(l)):\n",
        "    print(l[i],is_prime(l[i]))"
      ],
      "execution_count": 33,
      "outputs": [
        {
          "output_type": "stream",
          "text": [
            "5 True\n",
            "45 False\n",
            "23 True\n"
          ],
          "name": "stdout"
        }
      ]
    },
    {
      "cell_type": "code",
      "metadata": {
        "colab": {
          "base_uri": "https://localhost:8080/"
        },
        "id": "yKyvZQSaVsNp",
        "outputId": "23ec2694-8cd4-4ee7-f70f-68e6d00a8161"
      },
      "source": [
        "#10\n",
        "def is_sorted(l):\n",
        "    ans = True\n",
        "    for i in range(1,len(l)):\n",
        "        if l[i] < l[i-1]:\n",
        "            ans = False\n",
        "            break\n",
        "    if ans:\n",
        "        print(l,\"Is sorted\")\n",
        "    else:\n",
        "        print(l,\"Is not sorted\")\n",
        "\n",
        "l1 = [1,2,3,4,5]\n",
        "l2 = [1,2,3,5,4]\n",
        "\n",
        "is_sorted(l1)\n",
        "is_sorted(l2)"
      ],
      "execution_count": 34,
      "outputs": [
        {
          "output_type": "stream",
          "text": [
            "[1, 2, 3, 4, 5] Is sorted\n",
            "[1, 2, 3, 5, 4] Is not sorted\n"
          ],
          "name": "stdout"
        }
      ]
    },
    {
      "cell_type": "code",
      "metadata": {
        "colab": {
          "base_uri": "https://localhost:8080/"
        },
        "id": "ZTQN7EgTXMPm",
        "outputId": "9b445d19-9fb4-40fd-d829-b9d0cf068993"
      },
      "source": [
        "#11\n",
        "def sort_func(l):\n",
        "    cnt_zeros = l.count(0)\n",
        "    cnt_ones = l.count(1)\n",
        "    ans = [0]*cnt_zeros\n",
        "    ans.extend([1]*cnt_ones)\n",
        "    return ans\n",
        "\n",
        "l = [1,0,1,1,1,0,0,0,1,0,0,1,1]\n",
        "print(sort_func(l))"
      ],
      "execution_count": 35,
      "outputs": [
        {
          "output_type": "stream",
          "text": [
            "[0, 0, 0, 0, 0, 0, 1, 1, 1, 1, 1, 1, 1]\n"
          ],
          "name": "stdout"
        }
      ]
    },
    {
      "cell_type": "code",
      "metadata": {
        "colab": {
          "base_uri": "https://localhost:8080/"
        },
        "id": "zsCRGm-cYIdW",
        "outputId": "f2ed3eca-66b4-4977-b2f0-db09ccd333eb"
      },
      "source": [
        "#12\n",
        "def sort_even_odd(l):\n",
        "    for i in range(len(l)):\n",
        "        if l[i]%2 == 0:\n",
        "            for j in range(i-1,-1,-1):\n",
        "                if l[j]%2 == 0:\n",
        "                    break\n",
        "                else:\n",
        "                    l[j],l[j + 1] = l[j + 1], l[j]\n",
        "    return l\n",
        "\n",
        "l = [3,8,5,13,6,12,18,5]\n",
        "\n",
        "print(sort_even_odd(l))\n",
        "print(l)"
      ],
      "execution_count": 37,
      "outputs": [
        {
          "output_type": "stream",
          "text": [
            "[8, 6, 12, 18, 3, 5, 13, 5]\n",
            "[8, 6, 12, 18, 3, 5, 13, 5]\n"
          ],
          "name": "stdout"
        }
      ]
    },
    {
      "cell_type": "code",
      "metadata": {
        "colab": {
          "base_uri": "https://localhost:8080/"
        },
        "id": "GI9NBilXasqJ",
        "outputId": "d0870456-044b-40ba-af74-3a0e3c52b419"
      },
      "source": [
        "#13\n",
        "def reverse(arr):\n",
        "    # two pointers can also be used\n",
        "    return arr[::-1]\n",
        "\n",
        "print(reverse([1,2,3,4]))"
      ],
      "execution_count": 38,
      "outputs": [
        {
          "output_type": "stream",
          "text": [
            "[4, 3, 2, 1]\n"
          ],
          "name": "stdout"
        }
      ]
    },
    {
      "cell_type": "code",
      "metadata": {
        "colab": {
          "base_uri": "https://localhost:8080/"
        },
        "id": "EC6eIcKfbJoj",
        "outputId": "24f4359b-3e81-4c6c-c3ba-93ee2866d96c"
      },
      "source": [
        "#14\n",
        "def print_pairs(arr, target):\n",
        "    sorted_arr = sorted(arr)\n",
        "    l = 0\n",
        "    r = len(arr) - 1\n",
        "\n",
        "    while l < r:\n",
        "        sm = sorted_arr[l] + sorted_arr[r]\n",
        "        if sm == target:\n",
        "            print(sorted_arr[l],sorted_arr[r])\n",
        "            l += 1\n",
        "            r -= 1\n",
        "        elif sm < target:\n",
        "            l += 1\n",
        "        else:\n",
        "            r -= 1\n",
        "\n",
        "arr = [3,1,11,2,9,7,4,5,-1,13,6]\n",
        "target = 8\n",
        "print_pairs(arr,target)"
      ],
      "execution_count": 42,
      "outputs": [
        {
          "output_type": "stream",
          "text": [
            "-1 9\n",
            "1 7\n",
            "2 6\n",
            "3 5\n"
          ],
          "name": "stdout"
        }
      ]
    },
    {
      "cell_type": "code",
      "metadata": {
        "colab": {
          "base_uri": "https://localhost:8080/"
        },
        "id": "OD_x6RNdbrLL",
        "outputId": "e8db4a2a-6475-4d17-bdcc-02712216b08b"
      },
      "source": [
        "#15\n",
        "def print_triplets(arr, target):\n",
        "    sarr = sorted(arr)\n",
        "    for i in range(len(sarr)):\n",
        "        starget = target - sarr[i]\n",
        "        l = i + 1\n",
        "        r = len(sarr) - 1\n",
        "        while l < r:\n",
        "            sm = sarr[l] + sarr[r]\n",
        "            if sm == starget:\n",
        "                print(sarr[i],sarr[l],sarr[r])\n",
        "                l += 1\n",
        "                r -= 1\n",
        "            elif sm < starget:\n",
        "                l += 1\n",
        "            else:\n",
        "                r -= 1\n",
        "\n",
        "arr = [3,1,2,9,7,5,-1,6]\n",
        "target = 9\n",
        "print_triplets(arr,target)"
      ],
      "execution_count": 49,
      "outputs": [
        {
          "output_type": "stream",
          "text": [
            "-1 1 9\n",
            "-1 3 7\n",
            "1 2 6\n",
            "1 3 5\n"
          ],
          "name": "stdout"
        }
      ]
    },
    {
      "cell_type": "code",
      "metadata": {
        "colab": {
          "base_uri": "https://localhost:8080/"
        },
        "id": "1xI0tf2QgnlZ",
        "outputId": "cc8e1c0b-737e-4455-ad87-37a201624829"
      },
      "source": [
        "#16\n",
        "def print_subsets(arr):\n",
        "    for i in range(pow(2,len(arr))):\n",
        "        lst = list()\n",
        "        \n",
        "        for j in range(len(arr)):\n",
        "            if i & pow(2,j) > 0:\n",
        "                lst.append(arr[j])\n",
        "        print(lst)\n",
        "arr = [7,2,6]\n",
        "print_subsets(arr)"
      ],
      "execution_count": 66,
      "outputs": [
        {
          "output_type": "stream",
          "text": [
            "[]\n",
            "[7]\n",
            "[2]\n",
            "[7, 2]\n",
            "[6]\n",
            "[7, 6]\n",
            "[2, 6]\n",
            "[7, 2, 6]\n"
          ],
          "name": "stdout"
        }
      ]
    },
    {
      "cell_type": "code",
      "metadata": {
        "colab": {
          "base_uri": "https://localhost:8080/"
        },
        "id": "61AQylH9iQ28",
        "outputId": "df577af8-d8c0-4d75-edfc-60876c3ce5e4"
      },
      "source": [
        "#17\n",
        "\n",
        "def perm(arr , st):\n",
        "    \n",
        "    if st == len(arr) - 1:\n",
        "        print(arr)\n",
        "        return\n",
        "    \n",
        "    perm(arr,st + 1)\n",
        "    \n",
        "    for i in range(st + 1, len(arr)):\n",
        "        arr[i], arr[st] = arr[st], arr[i]\n",
        "        perm(arr, st + 1)\n",
        "        arr[i], arr[st] = arr[st], arr[i]\n",
        "\n",
        "arr = [7,2,6]\n",
        "perm(arr,0)"
      ],
      "execution_count": 75,
      "outputs": [
        {
          "output_type": "stream",
          "text": [
            "[7, 2, 6]\n",
            "[7, 6, 2]\n",
            "[2, 7, 6]\n",
            "[2, 6, 7]\n",
            "[6, 2, 7]\n",
            "[6, 7, 2]\n"
          ],
          "name": "stdout"
        }
      ]
    },
    {
      "cell_type": "code",
      "metadata": {
        "id": "JmoMiHeGtfWf"
      },
      "source": [
        "#18.a\n",
        "class Solution:\n",
        "    def sumOddLengthSubarrays(self, arr) -> int:\n",
        "        ans = 0\n",
        "        for i in range(len(arr)):\n",
        "            odd_start = (i + 1) // 2\n",
        "            even_start = (i + 1) - odd_start\n",
        "            odd_end = (len(arr) - i) // 2\n",
        "            even_end = len(arr) - i - odd_end\n",
        "            \n",
        "            # print(odd_start,even_start,odd_end,even_end)\n",
        "            # print(arr[i] * odd_start * odd_end,arr[i] * even_start * even_end)\n",
        "            \n",
        "            ans += arr[i] * even_start * even_end\n",
        "            ans += arr[i] * odd_start * odd_end\n",
        "            \n",
        "        return ans\n"
      ],
      "execution_count": 78,
      "outputs": []
    },
    {
      "cell_type": "code",
      "metadata": {
        "id": "935cBRIOtoQz"
      },
      "source": [
        "#18.b\n",
        "class Solution:\n",
        "    def kidsWithCandies(self, candies, extraCandies: int):\n",
        "        ans = []\n",
        "        max_candies = max(candies)\n",
        "        for x in candies:\n",
        "            ans.append(bool( x + extraCandies >= max_candies))\n",
        "        return ans"
      ],
      "execution_count": 80,
      "outputs": []
    },
    {
      "cell_type": "code",
      "metadata": {
        "id": "GFnb51QkugiS"
      },
      "source": [
        "#18.c\n",
        "class Solution:\n",
        "    def numIdenticalPairs(self, nums) -> int:\n",
        "        freq = {}\n",
        "        for x in nums:\n",
        "            freq[x] = freq.get(x,0) + 1\n",
        "        \n",
        "        ans = 0\n",
        "        for x in freq:\n",
        "            ans += freq[x] * (freq[x] - 1) // 2\n",
        "        return ans\n",
        "        "
      ],
      "execution_count": 82,
      "outputs": []
    },
    {
      "cell_type": "code",
      "metadata": {
        "id": "E1QeWJ-BvukY"
      },
      "source": [
        "#18.d\n",
        "class Solution:\n",
        "    def countGoodTriplets(self, arr, a: int, b: int, c: int) -> int:\n",
        "        \n",
        "        \n",
        "        def is_good(i, j, k):\n",
        "            \n",
        "            ok_a = abs(arr[i] - arr[j]) <= a\n",
        "            ok_b = abs(arr[j] - arr[k]) <= b\n",
        "            ok_c = abs(arr[i] - arr[k]) <= c\n",
        "\n",
        "            return ok_a and ok_b and ok_c\n",
        "        \n",
        "        size = len(arr)\n",
        "            \n",
        "        return sum(1 for i in range(size-2) for j in range(i+1, size-1) for k in range(j+1, size) if is_good(i,j,k))\n"
      ],
      "execution_count": 83,
      "outputs": []
    },
    {
      "cell_type": "code",
      "metadata": {
        "id": "SXvOVy40yr13"
      },
      "source": [
        "#18.e\n",
        "class Solution:\n",
        "    def sortArrayByParity(self, nums):\n",
        "        l = -1\n",
        "        for r in range(len(nums)):\n",
        "            if nums[r] % 2 == 0:\n",
        "                l += 1\n",
        "                nums[l],nums[r] = nums[r],nums[l]\n",
        "        return nums"
      ],
      "execution_count": 84,
      "outputs": []
    },
    {
      "cell_type": "code",
      "metadata": {
        "id": "_dAs2Yt9zkzK"
      },
      "source": [
        "#18.f\n",
        "class Solution:\n",
        "    def sortedSquares(self, nums):\n",
        "        return sorted([i*i for i in nums])"
      ],
      "execution_count": 85,
      "outputs": []
    },
    {
      "cell_type": "code",
      "metadata": {
        "id": "weK1C-uY0FgO"
      },
      "source": [
        "#18.g\n",
        "class Solution:\n",
        "    def maxProfit(self, prices) -> int:\n",
        "        min_price = prices[0]\n",
        "        ans = 0\n",
        "        for p in prices[1:]:\n",
        "            ans = max(ans,p - min_price)\n",
        "            min_price = min(min_price, p)\n",
        "        return ans\n",
        "            \n",
        "        "
      ],
      "execution_count": 86,
      "outputs": []
    },
    {
      "cell_type": "code",
      "metadata": {
        "id": "yPwcieyj1SRR"
      },
      "source": [
        "#18.h\n",
        "class Solution:\n",
        "    def maxProfit(self, prices) -> int:\n",
        "        return sum([max(prices[i] - prices[i-1],0) for i in range(1,len(prices))])\n",
        "        "
      ],
      "execution_count": 88,
      "outputs": []
    },
    {
      "cell_type": "code",
      "metadata": {
        "id": "P_RWDRC61k4t"
      },
      "source": [
        "#18.i\n",
        "class Solution:\n",
        "    def createTargetArray(self, nums, index):\n",
        "        ans = []\n",
        "        for num,idx in zip(nums,index):\n",
        "            ans.insert(idx,num)\n",
        "        return ans\n"
      ],
      "execution_count": 89,
      "outputs": []
    },
    {
      "cell_type": "code",
      "metadata": {
        "id": "oUqKlHvpAMIk"
      },
      "source": [
        "#18.j\n",
        "class Solution:\n",
        "    def finalPrices(self, prices):\n",
        "        st = []\n",
        "        ans = prices[:]\n",
        "        for i in range(len(prices)):\n",
        "            while len(st) > 0 and prices[st[-1]] >= prices[i]:\n",
        "                ans[st[-1]] -= prices[i]\n",
        "                st.pop()\n",
        "                \n",
        "            st.append(i)\n",
        "            \n",
        "        return ans"
      ],
      "execution_count": 90,
      "outputs": []
    },
    {
      "cell_type": "code",
      "metadata": {
        "id": "Hl96p8wJErnl"
      },
      "source": [
        ""
      ],
      "execution_count": null,
      "outputs": []
    }
  ]
}